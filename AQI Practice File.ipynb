{
 "cells": [
  {
   "cell_type": "code",
   "execution_count": 1,
   "metadata": {},
   "outputs": [],
   "source": [
    "import os\n",
    "import requests\n",
    "import sys\n",
    "import time"
   ]
  },
  {
   "cell_type": "code",
   "execution_count": 14,
   "metadata": {},
   "outputs": [],
   "source": [
    "# AQI\n",
    "from bs4 import BeautifulSoup\n",
    "import pandas as pd\n",
    "import numpy as np"
   ]
  },
  {
   "cell_type": "code",
   "execution_count": 7,
   "metadata": {},
   "outputs": [],
   "source": [
    "def get_html():\n",
    "    for year in range(2013,2019):\n",
    "        for month in range(1,13):\n",
    "            if month < 10:\n",
    "                url = 'https://en.tutiempo.net/climate/0{}-{}/ws-432950.html'.format(month,year)\n",
    "            else:\n",
    "                url = 'https://en.tutiempo.net/climate/{}-{}/ws-432950.html'.format(month,year)\n",
    "        \n",
    "            page = requests.get(url)\n",
    "            page_utf = page.text.encode('utf=8') #contains entire html\n",
    "        \n",
    "            if not os.path.exists('DataP/html_data/{}'.format(year)):\n",
    "                os.makedirs('DataP/html_data/{}'.format(year))\n",
    "        \n",
    "            with open('DataP/html_data/{}/{}.html'.format(year,month), 'wb') as output:\n",
    "                output.write(page_utf)\n",
    "        sys.stdout.flush()"
   ]
  },
  {
   "cell_type": "code",
   "execution_count": 8,
   "metadata": {},
   "outputs": [
    {
     "name": "stdout",
     "output_type": "stream",
     "text": [
      "Time taken 176.40519428253174\n"
     ]
    }
   ],
   "source": [
    "start = time.time()\n",
    "get_html()\n",
    "stop = time.time()\n",
    "print('Time taken {}'.format(stop-start))"
   ]
  },
  {
   "cell_type": "code",
   "execution_count": 21,
   "metadata": {},
   "outputs": [],
   "source": [
    "# AQI\n",
    "def get_avg():\n",
    "    aqi_df = pd.DataFrame()\n",
    "    for year in range(2013,2019):\n",
    "        avg_lst = []\n",
    "        for rows in pd.read_csv('Data/AQI/aqi{}.csv'.format(year), chunksize=24):\n",
    "            df = pd.DataFrame(data=rows)\n",
    "            sum = 0\n",
    "            avg = 0.0\n",
    "            pm2 = df['PM2.5']\n",
    "            for i in pm2:\n",
    "                if type(i) is int or type(i) is float:\n",
    "                    sum = sum+i\n",
    "                elif type(i) is str:\n",
    "                    if i!='NoData' and i!='PwrFail' and i!='---' and i!='InVld':\n",
    "                        temp = float(i)\n",
    "                        sum = sum+temp\n",
    "            avg = sum/24\n",
    "            avg_lst.append(avg)\n",
    "        aqi_df['{}'.format(year)] = pd.Series(avg_lst)\n",
    "    return aqi_df"
   ]
  },
  {
   "cell_type": "code",
   "execution_count": 22,
   "metadata": {},
   "outputs": [
    {
     "name": "stdout",
     "output_type": "stream",
     "text": [
      "Time taken 19.39517378807068\n"
     ]
    }
   ],
   "source": [
    "start = time.time()\n",
    "df = get_avg()\n",
    "stop = time.time()\n",
    "print('Time taken {}'.format(stop-start))"
   ]
  },
  {
   "cell_type": "code",
   "execution_count": 23,
   "metadata": {},
   "outputs": [
    {
     "data": {
      "text/html": [
       "<div>\n",
       "<style scoped>\n",
       "    .dataframe tbody tr th:only-of-type {\n",
       "        vertical-align: middle;\n",
       "    }\n",
       "\n",
       "    .dataframe tbody tr th {\n",
       "        vertical-align: top;\n",
       "    }\n",
       "\n",
       "    .dataframe thead th {\n",
       "        text-align: right;\n",
       "    }\n",
       "</style>\n",
       "<table border=\"1\" class=\"dataframe\">\n",
       "  <thead>\n",
       "    <tr style=\"text-align: right;\">\n",
       "      <th></th>\n",
       "      <th>2013</th>\n",
       "      <th>2014</th>\n",
       "      <th>2015</th>\n",
       "      <th>2016</th>\n",
       "      <th>2017</th>\n",
       "      <th>2018</th>\n",
       "    </tr>\n",
       "  </thead>\n",
       "  <tbody>\n",
       "    <tr>\n",
       "      <th>0</th>\n",
       "      <td>284.795833</td>\n",
       "      <td>255.875000</td>\n",
       "      <td>172.750000</td>\n",
       "      <td>284.795833</td>\n",
       "      <td>284.795833</td>\n",
       "      <td>255.875000</td>\n",
       "    </tr>\n",
       "    <tr>\n",
       "      <th>1</th>\n",
       "      <td>219.720833</td>\n",
       "      <td>217.083333</td>\n",
       "      <td>146.791667</td>\n",
       "      <td>219.720833</td>\n",
       "      <td>219.720833</td>\n",
       "      <td>217.083333</td>\n",
       "    </tr>\n",
       "    <tr>\n",
       "      <th>2</th>\n",
       "      <td>182.187500</td>\n",
       "      <td>229.166667</td>\n",
       "      <td>113.875000</td>\n",
       "      <td>182.187500</td>\n",
       "      <td>182.187500</td>\n",
       "      <td>229.166667</td>\n",
       "    </tr>\n",
       "    <tr>\n",
       "      <th>3</th>\n",
       "      <td>115.287500</td>\n",
       "      <td>392.208333</td>\n",
       "      <td>144.750000</td>\n",
       "      <td>115.287500</td>\n",
       "      <td>115.287500</td>\n",
       "      <td>392.208333</td>\n",
       "    </tr>\n",
       "    <tr>\n",
       "      <th>4</th>\n",
       "      <td>0.000000</td>\n",
       "      <td>536.500000</td>\n",
       "      <td>118.458333</td>\n",
       "      <td>0.000000</td>\n",
       "      <td>0.000000</td>\n",
       "      <td>536.500000</td>\n",
       "    </tr>\n",
       "  </tbody>\n",
       "</table>\n",
       "</div>"
      ],
      "text/plain": [
       "         2013        2014        2015        2016        2017        2018\n",
       "0  284.795833  255.875000  172.750000  284.795833  284.795833  255.875000\n",
       "1  219.720833  217.083333  146.791667  219.720833  219.720833  217.083333\n",
       "2  182.187500  229.166667  113.875000  182.187500  182.187500  229.166667\n",
       "3  115.287500  392.208333  144.750000  115.287500  115.287500  392.208333\n",
       "4    0.000000  536.500000  118.458333    0.000000    0.000000  536.500000"
      ]
     },
     "execution_count": 23,
     "metadata": {},
     "output_type": "execute_result"
    }
   ],
   "source": [
    "df.head()"
   ]
  },
  {
   "cell_type": "code",
   "execution_count": null,
   "metadata": {},
   "outputs": [],
   "source": []
  }
 ],
 "metadata": {
  "kernelspec": {
   "display_name": "Python 3",
   "language": "python",
   "name": "python3"
  },
  "language_info": {
   "codemirror_mode": {
    "name": "ipython",
    "version": 3
   },
   "file_extension": ".py",
   "mimetype": "text/x-python",
   "name": "python",
   "nbconvert_exporter": "python",
   "pygments_lexer": "ipython3",
   "version": "3.7.6"
  }
 },
 "nbformat": 4,
 "nbformat_minor": 4
}
