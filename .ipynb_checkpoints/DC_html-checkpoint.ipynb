{
 "cells": [
  {
   "cell_type": "code",
   "execution_count": 1,
   "metadata": {},
   "outputs": [],
   "source": [
    "import os\n",
    "import time\n",
    "import requests\n",
    "import sys"
   ]
  },
  {
   "cell_type": "code",
   "execution_count": 2,
   "metadata": {},
   "outputs": [],
   "source": [
    "def get_page():\n",
    "    for year in range(2010,2020):  #range is 2010 to 2019\n",
    "        for month in range(1,13):\n",
    "            if month < 10:\n",
    "                url = 'https://en.tutiempo.net/climate/0{}-{}/ws-432950.html'.format(month,year)\n",
    "            else:\n",
    "                url = 'https://en.tutiempo.net/climate/{}-{}/ws-432950.html'.format(month,year)\n",
    "        \n",
    "            page_text = requests.get(url)\n",
    "            page_text_utf = page_text.text.encode('utf=8')\n",
    "        \n",
    "            if not os.path.exists('Data/html_data/{}'.format(year)):\n",
    "                os.makedirs('Data/html_data/{}'.format(year))\n",
    "                \n",
    "            with open('Data/html_data/{}/{}.html'.format(year,month), 'wb') as output: #we use wb(write byte) as only w gives error\n",
    "                output.write(page_text_utf)\n",
    "        sys.stdout.flush() #using this to clear buffet and refer notes"
   ]
  },
  {
   "cell_type": "code",
   "execution_count": 3,
   "metadata": {},
   "outputs": [
    {
     "name": "stdout",
     "output_type": "stream",
     "text": [
      "Time taken 173.16405534744263\n"
     ]
    }
   ],
   "source": [
    "start_time = time.time()\n",
    "get_page()\n",
    "stop_time = time.time()\n",
    "print('Time taken {}'.format(stop_time-start_time))"
   ]
  },
  {
   "cell_type": "code",
   "execution_count": null,
   "metadata": {},
   "outputs": [],
   "source": []
  }
 ],
 "metadata": {
  "kernelspec": {
   "display_name": "Python 3",
   "language": "python",
   "name": "python3"
  },
  "language_info": {
   "codemirror_mode": {
    "name": "ipython",
    "version": 3
   },
   "file_extension": ".py",
   "mimetype": "text/x-python",
   "name": "python",
   "nbconvert_exporter": "python",
   "pygments_lexer": "ipython3",
   "version": "3.7.6"
  }
 },
 "nbformat": 4,
 "nbformat_minor": 4
}
